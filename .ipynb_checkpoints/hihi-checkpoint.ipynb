{
 "cells": [
  {
   "cell_type": "code",
   "execution_count": null,
   "id": "caf39796-3de1-4c9a-9bb7-c349559c4bb5",
   "metadata": {},
   "outputs": [],
   "source": [
    "%%writefile voice/read_aloud.py\n",
    "\n",
    "from gtts import gTTS\n",
    "import tempfile\n",
    "import IPython.display as ipd\n",
    "\n",
    "class ReadingWord:\n",
    "    def __init__(self, speed=1.0):\n",
    "        self.speed = speed\n",
    "\n",
    "    def read_aloud(self, word, lang='en'):\n",
    "        tts = gTTS(text=word, lang=lang)\n",
    "        with tempfile.NamedTemporaryFile(delete=True) as fp:\n",
    "            tts.save(fp.name + \".mp3\")\n",
    "            ipd.display(ipd.Audio(fp.name + \".mp3\", autoplay=True))\n",
    "\n"
   ]
  },
  {
   "cell_type": "code",
   "execution_count": 2,
   "id": "806a7bdb-33dd-4bc3-826e-f555f7cbf2f7",
   "metadata": {},
   "outputs": [
    {
     "name": "stdout",
     "output_type": "stream",
     "text": [
      "Requirement already satisfied: gtts in /Users/nguyenhoangngocha21/anaconda3/lib/python3.9/site-packages (2.3.2)\n",
      "Requirement already satisfied: requests<3,>=2.27 in /Users/nguyenhoangngocha21/anaconda3/lib/python3.9/site-packages (from gtts) (2.27.1)\n",
      "Requirement already satisfied: click<8.2,>=7.1 in /Users/nguyenhoangngocha21/anaconda3/lib/python3.9/site-packages (from gtts) (8.0.4)\n",
      "Requirement already satisfied: idna<4,>=2.5 in /Users/nguyenhoangngocha21/anaconda3/lib/python3.9/site-packages (from requests<3,>=2.27->gtts) (3.3)\n",
      "Requirement already satisfied: charset-normalizer~=2.0.0 in /Users/nguyenhoangngocha21/anaconda3/lib/python3.9/site-packages (from requests<3,>=2.27->gtts) (2.0.4)\n",
      "Requirement already satisfied: certifi>=2017.4.17 in /Users/nguyenhoangngocha21/anaconda3/lib/python3.9/site-packages (from requests<3,>=2.27->gtts) (2022.5.18.1)\n",
      "Requirement already satisfied: urllib3<1.27,>=1.21.1 in /Users/nguyenhoangngocha21/anaconda3/lib/python3.9/site-packages (from requests<3,>=2.27->gtts) (1.26.16)\n",
      "Note: you may need to restart the kernel to use updated packages.\n"
     ]
    }
   ],
   "source": [
    "pip install gtts\n"
   ]
  },
  {
   "cell_type": "code",
   "execution_count": 2,
   "id": "23feeddc-85bc-4c47-95c7-0373c2871fce",
   "metadata": {},
   "outputs": [],
   "source": [
    "from voice.read_aloud import ReadingWord \n"
   ]
  },
  {
   "cell_type": "code",
   "execution_count": 8,
   "id": "996665d1-a754-4819-9971-422a46af8384",
   "metadata": {},
   "outputs": [
    {
     "name": "stdout",
     "output_type": "stream",
     "text": [
      "Collecting pygame\n",
      "  Downloading pygame-2.4.0-cp39-cp39-macosx_11_0_arm64.whl (12.2 MB)\n",
      "\u001b[K     |████████████████████████████████| 12.2 MB 7.1 MB/s eta 0:00:01\n",
      "\u001b[?25hInstalling collected packages: pygame\n",
      "Successfully installed pygame-2.4.0\n",
      "Note: you may need to restart the kernel to use updated packages.\n"
     ]
    }
   ],
   "source": [
    "pip install pygame"
   ]
  },
  {
   "cell_type": "code",
   "execution_count": null,
   "id": "d0bb2145-cbbf-49e5-959a-9a3855e4d521",
   "metadata": {},
   "outputs": [],
   "source": [
    "%%writefile OCR/perform_ocr.py\n",
    "import easyocr\n",
    "\n",
    "class OCR:\n",
    "    def __init__(self):\n",
    "        self.reader = easyocr.Reader(['en'])  # vi for Vietnamese language\n",
    "\n",
    "    def perform_ocr(self, image):\n",
    "        results = self.reader.readtext(image, detail=0, paragraph=True)  # Set detail, paragraph parameters\n",
    "        extracted_text = \" \".join(results)  # Join into a single string\n",
    "        return extracted_text\n"
   ]
  },
  {
   "cell_type": "code",
   "execution_count": null,
   "id": "6bb38b7e-a6cc-4935-99e8-2bf0941f4d80",
   "metadata": {},
   "outputs": [],
   "source": [
    "%%writefile main.py\n",
    "\n",
    "\n",
    "\n",
    "\n",
    "'''\n",
    "The code is a Streamlit application that uses the easyocr library to perform OCR on an uploaded image.\n",
    "It extracts text from the image and then speaks the extracted words.\n",
    "'''\n",
    "import cv2\n",
    "import numpy as np\n",
    "import streamlit as st\n",
    "from PIL import Image\n",
    "import time\n",
    "from OCR.perform_ocr import OCR\n",
    "from voice.read_aloud import ReadingWord\n",
    "import os\n",
    "\n",
    "\n",
    "\n",
    "\n",
    "def main():\n",
    "    # Add CSS style\n",
    "    css = \"\"\"\n",
    "    <style>\n",
    "    body {\n",
    "        background-color: #f2f2f2; /* background color */\n",
    "    }\n",
    "    .title {\n",
    "        color: #3366ff; /* title*/\n",
    "        font-size: 24px; /* font size */\n",
    "        font-weight: bold; /* title font weight */\n",
    "    }\n",
    "    .loader {\n",
    "        border: 16px solid #f3f3f3;\n",
    "        border-top: 16px solid #3498db;\n",
    "        border-radius: 50%;\n",
    "        width: 80px;\n",
    "        height: 80px;\n",
    "        animation: spin 2s linear infinite;\n",
    "        margin: 0 auto;\n",
    "        margin-top: 20px;\n",
    "    }\n",
    "    </style>\n",
    "    \"\"\"\n",
    "\n",
    "    # Initialize OCR and ReadingWord classes\n",
    "    ocr_processor = OCR()\n",
    "    reader = ReadingWord()\n",
    "\n",
    "    # Add description\n",
    "    st.markdown(\"# OCR with OpenCV and Speech for Vietnamese\")\n",
    "    st.markdown(\n",
    "        \"This web application allows you to perform OCR on an uploaded image and extract text from it. The extracted text can then be read aloud using text-to-speech functionality.\"\n",
    "    )\n",
    "    st.title(\"Text extraction\")\n",
    "\n",
    "    # Image selection\n",
    "    option = st.radio(\n",
    "        \"Select an image or upload your own\", (\"Example 1\", \"Example 2\", \"Example 3\", \"Upload Image\")\n",
    "    )\n",
    "\n",
    "    # Example images\n",
    "    example_images = {\n",
    "        \"Example 1\": \"Example/image1.jpeg\",\n",
    "        \"Example 2\": \"Example/image2.jpeg\",\n",
    "        \"Example 3\": \"Example/image3.jpeg\",\n",
    "    }\n",
    "\n",
    "    # Uploaded image\n",
    "    uploaded_image = None\n",
    "\n",
    "    if option != \"Upload Image\":\n",
    "        # Read the example image\n",
    "        image_path = example_images[option]\n",
    "        image = Image.open(image_path)\n",
    "        st.image(image, caption=\"Selected Image\", width=400)\n",
    "    else:\n",
    "        # Upload image\n",
    "        uploaded_file = st.file_uploader(\"Upload an image\", type=[\"jpg\", \"jpeg\", \"png\"])\n",
    "        if uploaded_file is not None:\n",
    "            uploaded_image = np.array(Image.open(uploaded_file))\n",
    "            st.image(uploaded_image, channels=\"RGB\", caption=\"Uploaded Image\", width=400)\n",
    "\n",
    "    # Speech speed input\n",
    "    speed = st.slider(\"Speech Speed\", min_value=50, max_value=300, value=150, step=10)\n",
    "\n",
    "    # Begin extraction button\n",
    "    if st.button(\"Begin Extraction\"):\n",
    "        with st.spinner(\"Performing OCR...\"):\n",
    "            if option != \"Upload Image\" and image is not None:\n",
    "                # Perform OCR on the example image\n",
    "                extracted_text = ocr_processor.perform_ocr(image)\n",
    "            elif uploaded_image is not None:\n",
    "                # Perform OCR on the uploaded image\n",
    "                extracted_text = ocr_processor.perform_ocr(uploaded_image)\n",
    "            else:\n",
    "                st.warning(\"Please select or upload an image to begin extraction.\")\n",
    "\n",
    "            # Display the extracted text\n",
    "            st.header(\"Extracted Text:\")\n",
    "            st.text(extracted_text)\n",
    "\n",
    "            # Generate audio file\n",
    "            audio_file = f\"audio_{int(time.time())}.mp3\"\n",
    "            reader.read_aloud(extracted_text, audio_file)\n",
    "\n",
    "            # Provide download link for the audio file\n",
    "            st.markdown(f\"**[Download Audio]({audio_file})**\")\n",
    "\n",
    "            # Play audio\n",
    "            if st.button(\"Read Aloud\"):\n",
    "                st.markdown(\"Please wait while the text is being read aloud...\")\n",
    "                reader.read_aloud(audio_file)\n",
    "\n",
    "if __name__ == \"__main__\":\n",
    "    main()\n",
    "\n",
    "\n"
   ]
  },
  {
   "cell_type": "code",
   "execution_count": null,
   "id": "b04ac03e-d73f-471a-8f2a-f9c1ae0a21d6",
   "metadata": {},
   "outputs": [],
   "source": [
    "!Streamlit run main.py\n"
   ]
  },
  {
   "cell_type": "code",
   "execution_count": 1,
   "id": "cc6b6d09-c7aa-41a0-bf00-0473b07e5887",
   "metadata": {},
   "outputs": [
    {
     "name": "stdout",
     "output_type": "stream",
     "text": [
      "Collecting playsound\n",
      "  Downloading playsound-1.3.0.tar.gz (7.7 kB)\n",
      "Building wheels for collected packages: playsound\n",
      "  Building wheel for playsound (setup.py) ... \u001b[?25ldone\n",
      "\u001b[?25h  Created wheel for playsound: filename=playsound-1.3.0-py3-none-any.whl size=7035 sha256=ae5a05d39db0af7d9044a40fea429e0c299bd126f8c6f9fc4eef42312745500c\n",
      "  Stored in directory: /Users/nguyenhoangngocha21/Library/Caches/pip/wheels/ba/39/54/c8f7ff9a88a644d3c58b4dec802d90b79a2e0fb2a6b884bf82\n",
      "Successfully built playsound\n",
      "Installing collected packages: playsound\n",
      "Successfully installed playsound-1.3.0\n",
      "Note: you may need to restart the kernel to use updated packages.\n"
     ]
    }
   ],
   "source": [
    "pip install playsound"
   ]
  },
  {
   "cell_type": "code",
   "execution_count": 2,
   "id": "537047a1-aacd-4536-a1ab-f6bdc0c9d0d5",
   "metadata": {},
   "outputs": [
    {
     "name": "stdout",
     "output_type": "stream",
     "text": [
      "Requirement already satisfied: gtts in /Users/nguyenhoangngocha21/anaconda3/lib/python3.9/site-packages (2.3.2)\n",
      "Requirement already satisfied: requests<3,>=2.27 in /Users/nguyenhoangngocha21/anaconda3/lib/python3.9/site-packages (from gtts) (2.27.1)\n",
      "Requirement already satisfied: click<8.2,>=7.1 in /Users/nguyenhoangngocha21/anaconda3/lib/python3.9/site-packages (from gtts) (8.0.4)\n",
      "Requirement already satisfied: urllib3<1.27,>=1.21.1 in /Users/nguyenhoangngocha21/anaconda3/lib/python3.9/site-packages (from requests<3,>=2.27->gtts) (1.26.16)\n",
      "Requirement already satisfied: charset-normalizer~=2.0.0 in /Users/nguyenhoangngocha21/anaconda3/lib/python3.9/site-packages (from requests<3,>=2.27->gtts) (2.0.4)\n",
      "Requirement already satisfied: certifi>=2017.4.17 in /Users/nguyenhoangngocha21/anaconda3/lib/python3.9/site-packages (from requests<3,>=2.27->gtts) (2022.5.18.1)\n",
      "Requirement already satisfied: idna<4,>=2.5 in /Users/nguyenhoangngocha21/anaconda3/lib/python3.9/site-packages (from requests<3,>=2.27->gtts) (3.3)\n",
      "Note: you may need to restart the kernel to use updated packages.\n"
     ]
    }
   ],
   "source": [
    "pip install gtts"
   ]
  },
  {
   "cell_type": "code",
   "execution_count": null,
   "id": "0bae1189-2db7-4d11-b277-fb7e7dea750a",
   "metadata": {},
   "outputs": [],
   "source": []
  }
 ],
 "metadata": {
  "kernelspec": {
   "display_name": "Python 3 (ipykernel)",
   "language": "python",
   "name": "python3"
  },
  "language_info": {
   "codemirror_mode": {
    "name": "ipython",
    "version": 3
   },
   "file_extension": ".py",
   "mimetype": "text/x-python",
   "name": "python",
   "nbconvert_exporter": "python",
   "pygments_lexer": "ipython3",
   "version": "3.9.12"
  }
 },
 "nbformat": 4,
 "nbformat_minor": 5
}
